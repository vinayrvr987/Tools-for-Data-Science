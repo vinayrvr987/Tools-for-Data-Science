{
 "cells": [
  {
   "cell_type": "markdown",
   "id": "a7e0da43",
   "metadata": {},
   "source": [
    "# My Jupyter Notebook on IBM Watson Studio"
   ]
  },
  {
   "cell_type": "markdown",
   "id": "aaf237e8",
   "metadata": {},
   "source": [
    "**RAMIREDDY VINAY REDDY**<br>Data scientist"
   ]
  },
  {
   "cell_type": "markdown",
   "id": "ad421a64",
   "metadata": {},
   "source": [
    "*I am interested in data science because I like probability and statistics from childhood and I love playing with data*"
   ]
  },
  {
   "cell_type": "markdown",
   "id": "be80ceb2",
   "metadata": {},
   "source": [
    "### Addition of two numbers"
   ]
  },
  {
   "cell_type": "code",
   "execution_count": 2,
   "id": "dc979659",
   "metadata": {},
   "outputs": [
    {
     "name": "stdout",
     "output_type": "stream",
     "text": [
      "5\n"
     ]
    }
   ],
   "source": [
    "def add(a,b):\n",
    "    print(a+b)\n",
    "add(2,3)"
   ]
  },
  {
   "cell_type": "markdown",
   "id": "eb538241",
   "metadata": {},
   "source": [
    "***\n",
    "You should have these two qualities\n",
    "* Determination\n",
    "* Hard Work"
   ]
  }
 ],
 "metadata": {
  "kernelspec": {
   "display_name": "Python 3 (ipykernel)",
   "language": "python",
   "name": "python3"
  },
  "language_info": {
   "codemirror_mode": {
    "name": "ipython",
    "version": 3
   },
   "file_extension": ".py",
   "mimetype": "text/x-python",
   "name": "python",
   "nbconvert_exporter": "python",
   "pygments_lexer": "ipython3",
   "version": "3.9.7"
  }
 },
 "nbformat": 4,
 "nbformat_minor": 5
}
